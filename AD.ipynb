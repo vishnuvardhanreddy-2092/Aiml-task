{
 "cells": [
  {
   "cell_type": "code",
   "execution_count": 2,
   "id": "14ac103e-f642-4d0d-9f8e-3f2c137bea1c",
   "metadata": {},
   "outputs": [
    {
     "name": "stdout",
     "output_type": "stream",
     "text": [
      "(['apple', 10], ['banana', 5], ['cherry', 10], ['dragon', 10])\n"
     ]
    }
   ],
   "source": [
    "orders = ['apple',10],['banana',5],['cherry',7],['dragon',10]\n",
    "for each in orders:\n",
    "    if each[0]=='cherry':\n",
    "        each[1]=10\n",
    "print(orders)"
   ]
  },
  {
   "cell_type": "code",
   "execution_count": 3,
   "id": "4b9622d5-a3c4-49f0-9f1b-ed0a9b99cecb",
   "metadata": {},
   "outputs": [
    {
     "data": {
      "text/plain": [
       "(['apple', 10], ['banana', 5], ['cherry', 10], ['dragon', 10])"
      ]
     },
     "execution_count": 3,
     "metadata": {},
     "output_type": "execute_result"
    }
   ],
   "source": [
    "orders"
   ]
  },
  {
   "cell_type": "code",
   "execution_count": 14,
   "id": "3623a802-2607-4db1-a9d4-c1010195a2fb",
   "metadata": {},
   "outputs": [
    {
     "name": "stdout",
     "output_type": "stream",
     "text": [
      "[10]\n",
      "10\n"
     ]
    }
   ],
   "source": [
    "apple_orders=[]\n",
    "for each in orders:\n",
    "    if each[0]==\"apple\":\n",
    "        apple_orders.append(each[1])\n",
    "print(apple_orders)\n",
    "print(sum(apple_orders))"
   ]
  },
  {
   "cell_type": "code",
   "execution_count": 15,
   "id": "34445bef-d2db-4882-a550-4c0536cf902f",
   "metadata": {},
   "outputs": [
    {
     "name": "stdout",
     "output_type": "stream",
     "text": [
      "(4, 10, 9, 'A', 9, 81, False, (9-6j))\n",
      "<class 'tuple'>\n"
     ]
    }
   ],
   "source": [
    "tup1 = (4,10,9,\"A\",9,81, False, 9-6j)\n",
    "print (tup1)\n",
    "print (type(tup1))"
   ]
  },
  {
   "cell_type": "code",
   "execution_count": 16,
   "id": "69103c5e-67e5-444a-9919-2edefc181725",
   "metadata": {},
   "outputs": [
    {
     "data": {
      "text/plain": [
       "([1, 2, 3], (4, 8, 9), 'Hello', 9.8)"
      ]
     },
     "execution_count": 16,
     "metadata": {},
     "output_type": "execute_result"
    }
   ],
   "source": [
    "tup4 = ([1,2,3,],(4,8,9),\"Hello\",9.8)\n",
    "tup4"
   ]
  },
  {
   "cell_type": "code",
   "execution_count": 17,
   "id": "954d1cae-2d2b-4d98-8948-329bbe733bd9",
   "metadata": {},
   "outputs": [
    {
     "data": {
      "text/plain": [
       "([1, 2, 100], (4, 8, 9), 'Hello', 9.8)"
      ]
     },
     "execution_count": 17,
     "metadata": {},
     "output_type": "execute_result"
    }
   ],
   "source": [
    "tup4[0][2]=100\n",
    "tup4"
   ]
  },
  {
   "cell_type": "code",
   "execution_count": 19,
   "id": "3dd7c476-a1f3-4489-ab2f-a49a24f7f36b",
   "metadata": {},
   "outputs": [
    {
     "data": {
      "text/plain": [
       "5"
      ]
     },
     "execution_count": 19,
     "metadata": {},
     "output_type": "execute_result"
    }
   ],
   "source": [
    "tup5=(10,20,1,10,10,10,30,20,10)\n",
    "tup5.count(10)"
   ]
  },
  {
   "cell_type": "code",
   "execution_count": 2,
   "id": "351c82d1-eb77-4434-b28b-0cfa50be9809",
   "metadata": {},
   "outputs": [
    {
     "name": "stdout",
     "output_type": "stream",
     "text": [
      "{'x': 1, 'y': 2, 'z': 3}\n"
     ]
    }
   ],
   "source": [
    "# dictionary with a list of tuples\n",
    "d = dict([(\"x\",1), (\"y\",2),(\"z\",3)])\n",
    "print(d)"
   ]
  },
  {
   "cell_type": "code",
   "execution_count": 3,
   "id": "9edaf623-8742-4cd7-9b7c-c090a51e9731",
   "metadata": {},
   "outputs": [
    {
     "name": "stdout",
     "output_type": "stream",
     "text": [
      "dict_keys(['x', 'y', 'z'])\n",
      "dict_values([1, 2, 3])\n",
      "dict_items([('x', 1), ('y', 2), ('z', 3)])\n"
     ]
    }
   ],
   "source": [
    "print(d.keys())\n",
    "print(d.values())\n",
    "print(d.items())\n"
   ]
  },
  {
   "cell_type": "code",
   "execution_count": 7,
   "id": "56dc1e99-68db-40f1-a02e-a7b1b4a69c2c",
   "metadata": {},
   "outputs": [
    {
     "data": {
      "text/plain": [
       "{'virat': 90, 'rohit': 100, 'Rahul': 80, 'Hardik': 9, 'Gill': 20, 'Jadeja': 30}"
      ]
     },
     "execution_count": 7,
     "metadata": {},
     "output_type": "execute_result"
    }
   ],
   "source": [
    "scores={'virat':90,'rohit':100,'Rahul':80,'Hardik':9,'Gill':20,'Jadeja':30}\n",
    "scores"
   ]
  },
  {
   "cell_type": "code",
   "execution_count": 8,
   "id": "e180e70e-32dc-413e-bac8-8ec2cd12d5fd",
   "metadata": {},
   "outputs": [
    {
     "data": {
      "text/plain": [
       "{'virat': 90, 'rohit': 90, 'Rahul': 80, 'Hardik': 9, 'Gill': 20, 'Jadeja': 30}"
      ]
     },
     "execution_count": 8,
     "metadata": {},
     "output_type": "execute_result"
    }
   ],
   "source": [
    "scores.update({'rohit':90})\n",
    "scores"
   ]
  },
  {
   "cell_type": "code",
   "execution_count": 14,
   "id": "d1287732-1766-4168-817f-34ed620aeefe",
   "metadata": {},
   "outputs": [
    {
     "data": {
      "text/plain": [
       "{'virat': 90,\n",
       " 'rohit': 90,\n",
       " 'Rahul': 80,\n",
       " 'Hardik': 9,\n",
       " 'Gill': 20,\n",
       " 'Jadeja': 30,\n",
       " 'Ashwin': 80,\n",
       " 'pujara': 50}"
      ]
     },
     "execution_count": 14,
     "metadata": {},
     "output_type": "execute_result"
    }
   ],
   "source": [
    "scores.update({'Ashwin':80})\n",
    "scores"
   ]
  },
  {
   "cell_type": "code",
   "execution_count": 10,
   "id": "bc33a3c2-174f-4f7b-8eee-c806584fc65f",
   "metadata": {},
   "outputs": [
    {
     "data": {
      "text/plain": [
       "{'virat': 90,\n",
       " 'rohit': 90,\n",
       " 'Rahul': 80,\n",
       " 'Hardik': 9,\n",
       " 'Gill': 20,\n",
       " 'Jadeja': 30,\n",
       " 'Ashwin': 80}"
      ]
     },
     "execution_count": 10,
     "metadata": {},
     "output_type": "execute_result"
    }
   ],
   "source": [
    "scores.setdefault('Rahul',70)\n",
    "scores"
   ]
  },
  {
   "cell_type": "code",
   "execution_count": 12,
   "id": "20741d5a-9112-432b-beff-0d0f96cb126e",
   "metadata": {},
   "outputs": [
    {
     "data": {
      "text/plain": [
       "{'virat': 90,\n",
       " 'rohit': 90,\n",
       " 'Rahul': 80,\n",
       " 'Hardik': 9,\n",
       " 'Gill': 20,\n",
       " 'Jadeja': 30,\n",
       " 'Ashwin': 80,\n",
       " 'pujara': 50}"
      ]
     },
     "execution_count": 12,
     "metadata": {},
     "output_type": "execute_result"
    }
   ],
   "source": [
    "scores.setdefault('pujara',50)\n",
    "scores"
   ]
  },
  {
   "cell_type": "code",
   "execution_count": 15,
   "id": "9fcf63e5-1bd0-4126-92dd-eb12f91bf330",
   "metadata": {},
   "outputs": [
    {
     "data": {
      "text/plain": [
       "{'virat': 90,\n",
       " 'rohit': 90,\n",
       " 'Rahul': 80,\n",
       " 'Hardik': 9,\n",
       " 'Gill': 20,\n",
       " 'Jadeja': 30,\n",
       " 'Ashwin': 80}"
      ]
     },
     "execution_count": 15,
     "metadata": {},
     "output_type": "execute_result"
    }
   ],
   "source": [
    "scores.popitem()\n",
    "scores"
   ]
  },
  {
   "cell_type": "code",
   "execution_count": 16,
   "id": "cd5aeea6-07cf-43c9-92e9-7921461fc282",
   "metadata": {},
   "outputs": [
    {
     "data": {
      "text/plain": [
       "{'virat': 90, 'rohit': 90, 'Hardik': 9, 'Gill': 20, 'Jadeja': 30, 'Ashwin': 80}"
      ]
     },
     "execution_count": 16,
     "metadata": {},
     "output_type": "execute_result"
    }
   ],
   "source": [
    "scores.pop('Rahul')\n",
    "scores"
   ]
  },
  {
   "cell_type": "code",
   "execution_count": null,
   "id": "72735bbb-4b53-41bf-aca7-17e3a9e25873",
   "metadata": {},
   "outputs": [],
   "source": []
  }
 ],
 "metadata": {
  "kernelspec": {
   "display_name": "Python 3 (ipykernel)",
   "language": "python",
   "name": "python3"
  },
  "language_info": {
   "codemirror_mode": {
    "name": "ipython",
    "version": 3
   },
   "file_extension": ".py",
   "mimetype": "text/x-python",
   "name": "python",
   "nbconvert_exporter": "python",
   "pygments_lexer": "ipython3",
   "version": "3.12.7"
  }
 },
 "nbformat": 4,
 "nbformat_minor": 5
}
